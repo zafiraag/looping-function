{
 "cells": [
  {
   "cell_type": "code",
   "execution_count": 1,
   "metadata": {},
   "outputs": [
    {
     "name": "stdout",
     "output_type": "stream",
     "text": [
      "Hasil: 4.0\n"
     ]
    }
   ],
   "source": [
    "operasi_bilangan = input(\"Pilih operasi (+,-,:,x): \")\n",
    "\n",
    "angka1 = float(input(\"masukkan angka pertama \"))\n",
    "angka2 = float(input(\"masukkan angka kedua \"))\n",
    "\n",
    "if operasi_bilangan == \"+\":\n",
    "   operasi = angka1 + angka2\n",
    "elif operasi_bilangan == \"-\":\n",
    "   operasi = angka1 - angka2\n",
    "elif operasi_bilangan == \":\":\n",
    "   if angka2 == 0:\n",
    "      operasi = \"error divison by zero\"\n",
    "   else:\n",
    "      operasi = angka1/angka2\n",
    "elif operasi_bilangan == \"*\":\n",
    "   operasi = angka1 * angka2\n",
    "else:\n",
    "   operasi = \"operasi bilangan tidak valid\"\n",
    "\n",
    "print(\"Hasil: \"+ str(operasi))"
   ]
  },
  {
   "cell_type": "code",
   "execution_count": null,
   "metadata": {},
   "outputs": [],
   "source": []
  }
 ],
 "metadata": {
  "kernelspec": {
   "display_name": "Python 3",
   "language": "python",
   "name": "python3"
  },
  "language_info": {
   "codemirror_mode": {
    "name": "ipython",
    "version": 3
   },
   "file_extension": ".py",
   "mimetype": "text/x-python",
   "name": "python",
   "nbconvert_exporter": "python",
   "pygments_lexer": "ipython3",
   "version": "3.11.5"
  }
 },
 "nbformat": 4,
 "nbformat_minor": 2
}
