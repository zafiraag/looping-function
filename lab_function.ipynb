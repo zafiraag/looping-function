{
  "nbformat": 4,
  "nbformat_minor": 0,
  "metadata": {
    "colab": {
      "provenance": [],
      "toc_visible": true,
      "authorship_tag": "ABX9TyN7RhMEk10xKhibcAfr4pOM",
      "include_colab_link": true
    },
    "kernelspec": {
      "name": "python3",
      "display_name": "Python 3"
    },
    "language_info": {
      "name": "python"
    }
  },
  "cells": [
    {
      "cell_type": "markdown",
      "metadata": {
        "id": "view-in-github",
        "colab_type": "text"
      },
      "source": [
        "<a href=\"https://colab.research.google.com/github/zafiraag/looping-function/blob/main/lab_function.ipynb\" target=\"_parent\"><img src=\"https://colab.research.google.com/assets/colab-badge.svg\" alt=\"Open In Colab\"/></a>"
      ]
    },
    {
      "cell_type": "code",
      "source": [
        "!python --version"
      ],
      "metadata": {
        "colab": {
          "base_uri": "https://localhost:8080/"
        },
        "id": "lroGHROjlGNe",
        "outputId": "ee53c97f-58c9-4e18-cd90-4f9446d00acf"
      },
      "execution_count": null,
      "outputs": [
        {
          "output_type": "stream",
          "name": "stdout",
          "text": [
            "Python 3.10.12\n"
          ]
        }
      ]
    },
    {
      "cell_type": "code",
      "source": [
        "def greet(name, greeting):\n",
        " print(f\"{greeting}, {name}!\")\n",
        "greet(\"Traveler\", \"Ad astra abyssosque\") # \"Ad astra abyssosque!\""
      ],
      "metadata": {
        "colab": {
          "base_uri": "https://localhost:8080/"
        },
        "id": "r6mig2lrli-c",
        "outputId": "3c3bedec-92f6-474f-c418-98737d293c44"
      },
      "execution_count": 4,
      "outputs": [
        {
          "output_type": "stream",
          "name": "stdout",
          "text": [
            "Ad astra abyssosque, Traveler!\n"
          ]
        }
      ]
    },
    {
      "cell_type": "code",
      "source": [
        "# Here a,b are the parameters\n",
        "def sum(a,b):\n",
        " print(a+b)\n",
        "\n",
        "# Here the values 1,2 are arguments\n",
        "sum(1,2)"
      ],
      "metadata": {
        "colab": {
          "base_uri": "https://localhost:8080/"
        },
        "id": "DercRJQclRdU",
        "outputId": "7ee6dc1e-fbd4-42b2-a6a7-0b0f544a8a4f"
      },
      "execution_count": null,
      "outputs": [
        {
          "output_type": "stream",
          "name": "stdout",
          "text": [
            "3\n"
          ]
        }
      ]
    },
    {
      "cell_type": "code",
      "source": [
        "def greet(name, greeting):\n",
        " print(f\"{greeting}, {name}!\")\n",
        "greet(greeting=\"Hi\", name=\"Xiao\") # \"Hi, Xiao!\""
      ],
      "metadata": {
        "colab": {
          "base_uri": "https://localhost:8080/"
        },
        "id": "7_IZCzFyog3S",
        "outputId": "4feb1935-df75-4a31-d8e3-9e025f4f4192"
      },
      "execution_count": 5,
      "outputs": [
        {
          "output_type": "stream",
          "name": "stdout",
          "text": [
            "Hi, Xiao!\n"
          ]
        }
      ]
    },
    {
      "cell_type": "code",
      "source": [
        "def greet(name, greeting=\"Hello\"):\n",
        " print(f\"{greeting}, {name}!\")\n",
        "greet(\"Furina\") # \"Hello, Furina!\""
      ],
      "metadata": {
        "colab": {
          "base_uri": "https://localhost:8080/"
        },
        "id": "_VzBYxK4oOG7",
        "outputId": "94624efa-9cc3-483e-9ec3-cee828bfce84"
      },
      "execution_count": 7,
      "outputs": [
        {
          "output_type": "stream",
          "name": "stdout",
          "text": [
            "Hello, Furina!\n"
          ]
        }
      ]
    },
    {
      "cell_type": "code",
      "source": [
        "def print_args(*args):\n",
        " for arg in args:\n",
        " print(arg)\n",
        "print_args(1, \"apple\", True) # 1\\n\"apple\"\\nTrue"
      ],
      "metadata": {
        "colab": {
          "base_uri": "https://localhost:8080/",
          "height": 140
        },
        "id": "MOYp4Q1mpE9i",
        "outputId": "6af296f1-5524-409a-b241-8d5ab7990768"
      },
      "execution_count": 11,
      "outputs": [
        {
          "output_type": "error",
          "ename": "IndentationError",
          "evalue": "ignored",
          "traceback": [
            "\u001b[0;36m  File \u001b[0;32m\"<ipython-input-11-96c651e638fa>\"\u001b[0;36m, line \u001b[0;32m3\u001b[0m\n\u001b[0;31m    print()\u001b[0m\n\u001b[0m    ^\u001b[0m\n\u001b[0;31mIndentationError\u001b[0m\u001b[0;31m:\u001b[0m expected an indented block after 'for' statement on line 2\n"
          ]
        }
      ]
    },
    {
      "cell_type": "code",
      "source": [
        "def print_kwargs(**kwargs):\n",
        " for key, value in kwargs.items():\n",
        " print(f\"{key}: {value}\")\n",
        "print_kwargs(name=\"Alice\", age=30) # \"name: Alice\"\\n\"age: 30\""
      ],
      "metadata": {
        "colab": {
          "base_uri": "https://localhost:8080/",
          "height": 140
        },
        "id": "i8ouXv0ZpJhB",
        "outputId": "93fbdb6a-9890-4d15-d5cc-7cf79595dd10"
      },
      "execution_count": null,
      "outputs": [
        {
          "output_type": "error",
          "ename": "IndentationError",
          "evalue": "ignored",
          "traceback": [
            "\u001b[0;36m  File \u001b[0;32m\"<ipython-input-17-cf4c60578f3b>\"\u001b[0;36m, line \u001b[0;32m3\u001b[0m\n\u001b[0;31m    print(f\"{key}: {value}\")\u001b[0m\n\u001b[0m    ^\u001b[0m\n\u001b[0;31mIndentationError\u001b[0m\u001b[0;31m:\u001b[0m expected an indented block after 'for' statement on line 2\n"
          ]
        }
      ]
    },
    {
      "cell_type": "code",
      "source": [
        "def print_list(numbers):\n",
        " for num in numbers:\n",
        " print(num)\n",
        "print_list([1, 2, 3, 4]) # 1\\n2\\n3\\n4\n",
        "def print_dict(my_dict):\n",
        " for key, value in my_dict.items():\n",
        " print(f\"{key}: {value}\")\n",
        "print_dict({\"name\": \"Bob\", \"age\": 25}) # Output: \"name: Bob\"\\n\"age: 25\""
      ],
      "metadata": {
        "id": "F8as-jLtpj-A",
        "outputId": "bb1b8e86-cc5b-4121-e16e-ab88a8945379",
        "colab": {
          "base_uri": "https://localhost:8080/",
          "height": 140
        }
      },
      "execution_count": 12,
      "outputs": [
        {
          "output_type": "error",
          "ename": "IndentationError",
          "evalue": "ignored",
          "traceback": [
            "\u001b[0;36m  File \u001b[0;32m\"<ipython-input-12-e1106b36ed28>\"\u001b[0;36m, line \u001b[0;32m3\u001b[0m\n\u001b[0;31m    print(num)\u001b[0m\n\u001b[0m    ^\u001b[0m\n\u001b[0;31mIndentationError\u001b[0m\u001b[0;31m:\u001b[0m expected an indented block after 'for' statement on line 2\n"
          ]
        }
      ]
    },
    {
      "cell_type": "code",
      "execution_count": 13,
      "metadata": {
        "colab": {
          "base_uri": "https://localhost:8080/"
        },
        "id": "TYEdrhTkkTu1",
        "outputId": "70b52fbd-81e0-4ddd-c9d3-9aa7866cbcc9"
      },
      "outputs": [
        {
          "output_type": "stream",
          "name": "stdout",
          "text": [
            "a: 1\n",
            "b: (2, 3)\n",
            "c: 6\n",
            "d: {'x': 4, 'y': 5}\n",
            "a: 1\n",
            "b: (2, 3)\n",
            "c: 7\n",
            "d: {'x': 4, 'y': 5}\n"
          ]
        }
      ],
      "source": [
        "def f(a, *b, c=6, **d): # compare it with def f(a, b=6, *c, **d)\n",
        " print(f\"a: {a}\")\n",
        " print(f\"b: {b}\")\n",
        " print(f\"c: {c}\")\n",
        " print(f\"d: {d}\")\n",
        "f(1, 2, 3, x=4, y=5) # Default used\n",
        "f(1, 2, 3, c=7, x=4, y=5) # Override default\n"
      ]
    },
    {
      "cell_type": "code",
      "source": [
        "def add_numbers(a, b):\n",
        " \"\"\"This function adds two numbers and\n",
        "returns the result.\"\"\"\n",
        " result = a + b\n",
        " return result\n",
        "# Call the function with a return value\n",
        "sum_result = add_numbers(5, 3)\n",
        "print(f\"The sum is: {sum_result}\")\n"
      ],
      "metadata": {
        "colab": {
          "base_uri": "https://localhost:8080/"
        },
        "id": "-_4sQ6h_JNlP",
        "outputId": "d61335c8-a1cc-4371-9447-359daea25522"
      },
      "execution_count": 14,
      "outputs": [
        {
          "output_type": "stream",
          "name": "stdout",
          "text": [
            "The sum is: 8\n"
          ]
        }
      ]
    },
    {
      "cell_type": "code",
      "source": [
        "def greet(name):\n",
        " \"\"\"This function greets the person passed in as a\n",
        "parameter.\"\"\"\n",
        " print(f\"Hello, {name}!\")\n",
        "# Call the function without a return value\n",
        "greet(\"Alice\")"
      ],
      "metadata": {
        "colab": {
          "base_uri": "https://localhost:8080/"
        },
        "id": "dAVidsZ_JSEv",
        "outputId": "46b5eef0-882e-4887-a8bc-8ce3c17e0b4f"
      },
      "execution_count": 15,
      "outputs": [
        {
          "output_type": "stream",
          "name": "stdout",
          "text": [
            "Hello, Alice!\n"
          ]
        }
      ]
    },
    {
      "cell_type": "code",
      "source": [
        "if 'a' == 'a':\n",
        " def greet():\n",
        " return \"Hello, World!\"\n",
        "else:\n",
        " def greet():\n",
        " return \"Hi there!\"\n"
      ],
      "metadata": {
        "colab": {
          "base_uri": "https://localhost:8080/",
          "height": 140
        },
        "id": "0HxLJO6nJY_t",
        "outputId": "5deb1631-6c39-488f-87a8-d248748986f6"
      },
      "execution_count": 16,
      "outputs": [
        {
          "output_type": "error",
          "ename": "IndentationError",
          "evalue": "ignored",
          "traceback": [
            "\u001b[0;36m  File \u001b[0;32m\"<ipython-input-16-d828ee7cf86f>\"\u001b[0;36m, line \u001b[0;32m3\u001b[0m\n\u001b[0;31m    return \"Hello, World!\"\u001b[0m\n\u001b[0m    ^\u001b[0m\n\u001b[0;31mIndentationError\u001b[0m\u001b[0;31m:\u001b[0m expected an indented block after function definition on line 2\n"
          ]
        }
      ]
    },
    {
      "cell_type": "code",
      "source": [
        "def say_hello():\n",
        " print(\"Hello, World!\")\n",
        "greeting = say_hello # Assigning the function to a different name\n",
        "greeting() # Calls the function\n",
        "def say_hello():\n",
        " print(\"Hello, Python!\")\n",
        "say_hello() # Calls the updated function"
      ],
      "metadata": {
        "colab": {
          "base_uri": "https://localhost:8080/"
        },
        "id": "RKHXQqYPJhMi",
        "outputId": "a2e088f3-02ee-4ed3-8db2-11976b22af68"
      },
      "execution_count": 17,
      "outputs": [
        {
          "output_type": "stream",
          "name": "stdout",
          "text": [
            "Hello, World!\n",
            "Hello, Python!\n"
          ]
        }
      ]
    },
    {
      "cell_type": "code",
      "source": [
        "def divide_by_zero(a):\n",
        " return a * 2 / ( a - a ) # this is a bug\n",
        "print(\"After function creation\")\n",
        "# it’s not error until executed:\n",
        "result = divide_by_zero(5) # comment this and see the differences\n",
        "print(\"After function is called/executed\")"
      ],
      "metadata": {
        "colab": {
          "base_uri": "https://localhost:8080/",
          "height": 366
        },
        "id": "gTBzjQzqJlI6",
        "outputId": "616dfd66-6f53-4925-edd7-b4204f6c0b5f"
      },
      "execution_count": 18,
      "outputs": [
        {
          "output_type": "stream",
          "name": "stdout",
          "text": [
            "After function creation\n"
          ]
        },
        {
          "output_type": "error",
          "ename": "ZeroDivisionError",
          "evalue": "ignored",
          "traceback": [
            "\u001b[0;31m---------------------------------------------------------------------------\u001b[0m",
            "\u001b[0;31mZeroDivisionError\u001b[0m                         Traceback (most recent call last)",
            "\u001b[0;32m<ipython-input-18-d4aaae35cd03>\u001b[0m in \u001b[0;36m<cell line: 5>\u001b[0;34m()\u001b[0m\n\u001b[1;32m      3\u001b[0m \u001b[0mprint\u001b[0m\u001b[0;34m(\u001b[0m\u001b[0;34m\"After function creation\"\u001b[0m\u001b[0;34m)\u001b[0m\u001b[0;34m\u001b[0m\u001b[0;34m\u001b[0m\u001b[0m\n\u001b[1;32m      4\u001b[0m \u001b[0;31m# it’s not error until executed:\u001b[0m\u001b[0;34m\u001b[0m\u001b[0;34m\u001b[0m\u001b[0m\n\u001b[0;32m----> 5\u001b[0;31m \u001b[0mresult\u001b[0m \u001b[0;34m=\u001b[0m \u001b[0mdivide_by_zero\u001b[0m\u001b[0;34m(\u001b[0m\u001b[0;36m5\u001b[0m\u001b[0;34m)\u001b[0m \u001b[0;31m# comment this and see the differences\u001b[0m\u001b[0;34m\u001b[0m\u001b[0;34m\u001b[0m\u001b[0m\n\u001b[0m\u001b[1;32m      6\u001b[0m \u001b[0mprint\u001b[0m\u001b[0;34m(\u001b[0m\u001b[0;34m\"After function is called/executed\"\u001b[0m\u001b[0;34m)\u001b[0m\u001b[0;34m\u001b[0m\u001b[0;34m\u001b[0m\u001b[0m\n",
            "\u001b[0;32m<ipython-input-18-d4aaae35cd03>\u001b[0m in \u001b[0;36mdivide_by_zero\u001b[0;34m(a)\u001b[0m\n\u001b[1;32m      1\u001b[0m \u001b[0;32mdef\u001b[0m \u001b[0mdivide_by_zero\u001b[0m\u001b[0;34m(\u001b[0m\u001b[0ma\u001b[0m\u001b[0;34m)\u001b[0m\u001b[0;34m:\u001b[0m\u001b[0;34m\u001b[0m\u001b[0;34m\u001b[0m\u001b[0m\n\u001b[0;32m----> 2\u001b[0;31m  \u001b[0;32mreturn\u001b[0m \u001b[0ma\u001b[0m \u001b[0;34m*\u001b[0m \u001b[0;36m2\u001b[0m \u001b[0;34m/\u001b[0m \u001b[0;34m(\u001b[0m \u001b[0ma\u001b[0m \u001b[0;34m-\u001b[0m \u001b[0ma\u001b[0m \u001b[0;34m)\u001b[0m \u001b[0;31m# this is a bug\u001b[0m\u001b[0;34m\u001b[0m\u001b[0;34m\u001b[0m\u001b[0m\n\u001b[0m\u001b[1;32m      3\u001b[0m \u001b[0mprint\u001b[0m\u001b[0;34m(\u001b[0m\u001b[0;34m\"After function creation\"\u001b[0m\u001b[0;34m)\u001b[0m\u001b[0;34m\u001b[0m\u001b[0;34m\u001b[0m\u001b[0m\n\u001b[1;32m      4\u001b[0m \u001b[0;31m# it’s not error until executed:\u001b[0m\u001b[0;34m\u001b[0m\u001b[0;34m\u001b[0m\u001b[0m\n\u001b[1;32m      5\u001b[0m \u001b[0mresult\u001b[0m \u001b[0;34m=\u001b[0m \u001b[0mdivide_by_zero\u001b[0m\u001b[0;34m(\u001b[0m\u001b[0;36m5\u001b[0m\u001b[0;34m)\u001b[0m \u001b[0;31m# comment this and see the differences\u001b[0m\u001b[0;34m\u001b[0m\u001b[0;34m\u001b[0m\u001b[0m\n",
            "\u001b[0;31mZeroDivisionError\u001b[0m: division by zero"
          ]
        }
      ]
    },
    {
      "cell_type": "code",
      "source": [
        "def greet(name):\n",
        " return f\"Hello, {name}!\"\n",
        "# Assign the function to a variable\n",
        "my_function = greet\n",
        "# Call the function using the variable\n",
        "result = my_function(\"Alice\")\n",
        "print(result) # Output: Hello, Alice!"
      ],
      "metadata": {
        "colab": {
          "base_uri": "https://localhost:8080/"
        },
        "id": "khYRcQdzJoxs",
        "outputId": "077d11c9-6363-45c0-ad5f-df801bfda5f5"
      },
      "execution_count": 19,
      "outputs": [
        {
          "output_type": "stream",
          "name": "stdout",
          "text": [
            "Hello, Alice!\n"
          ]
        }
      ]
    },
    {
      "cell_type": "code",
      "source": [
        "def apply(func, x):\n",
        " return func(x)\n",
        "def square(x):\n",
        " return x * x\n",
        "result = apply(square, 5)\n",
        "print(result) # Output: 25"
      ],
      "metadata": {
        "colab": {
          "base_uri": "https://localhost:8080/"
        },
        "id": "R8bVZMRPJsSI",
        "outputId": "ad8aea38-f60a-4e9e-cedb-ba9b6b80745a"
      },
      "execution_count": 20,
      "outputs": [
        {
          "output_type": "stream",
          "name": "stdout",
          "text": [
            "25\n"
          ]
        }
      ]
    },
    {
      "cell_type": "code",
      "source": [
        "def my_function():\n",
        " x = 10 # x is in the local scope\n",
        " print(x)\n",
        "def outer_function():\n",
        " y = 20 # y is in the enclosing scope\n",
        " def inner_function():\n",
        " print(y) # inner_function can access y from the enclosing scope\n",
        "z = 30 # z is in the global scope\n",
        "def another_function():\n",
        " print(z) # another_function can access z from the global scope\n",
        "print(len(\"Hello, World!\")) # len is a built-in function"
      ],
      "metadata": {
        "colab": {
          "base_uri": "https://localhost:8080/",
          "height": 140
        },
        "id": "P-gOf5e0JviA",
        "outputId": "840b09a8-d0df-4f0e-c40a-0bd6c79c3fd4"
      },
      "execution_count": 21,
      "outputs": [
        {
          "output_type": "error",
          "ename": "IndentationError",
          "evalue": "ignored",
          "traceback": [
            "\u001b[0;36m  File \u001b[0;32m\"<ipython-input-21-8b3b802f5c6b>\"\u001b[0;36m, line \u001b[0;32m7\u001b[0m\n\u001b[0;31m    print(y) # inner_function can access y from the enclosing scope\u001b[0m\n\u001b[0m    ^\u001b[0m\n\u001b[0;31mIndentationError\u001b[0m\u001b[0;31m:\u001b[0m expected an indented block after function definition on line 6\n"
          ]
        }
      ]
    },
    {
      "cell_type": "code",
      "source": [
        "global_var = 10 # Global variable\n",
        "def modify_global():\n",
        " global global_var # Use the global keyword to MODIFY the global variable\n",
        " global_var = 20\n",
        "modify_global()\n",
        "print(global_var) # This will print the modified global variable, which is 20"
      ],
      "metadata": {
        "colab": {
          "base_uri": "https://localhost:8080/"
        },
        "id": "RnXefKiKJy5w",
        "outputId": "fe76b2e7-8184-4dad-8af9-3be053e3f0b9"
      },
      "execution_count": 22,
      "outputs": [
        {
          "output_type": "stream",
          "name": "stdout",
          "text": [
            "20\n"
          ]
        }
      ]
    },
    {
      "cell_type": "code",
      "source": [
        "def modify_list(my_list):\n",
        " my_list.append(4) # Modifying the list inside the function\n",
        "my_list = [1, 2, 3]\n",
        "modify_list(my_list)\n",
        "print(my_list) # Output: [1, 2, 3, 4]\n",
        "def reassign_list(my_list):\n",
        " my_list = [4, 5, 6] # Reassigning the list to a new object\n",
        "my_list = [1, 2, 3]\n",
        "reassign_list(my_list)\n",
        "print(my_list) # Output: [1, 2, 3]"
      ],
      "metadata": {
        "colab": {
          "base_uri": "https://localhost:8080/"
        },
        "id": "JWAKxvTYJ2YR",
        "outputId": "e1f946a1-e1d4-4d2e-bc0a-eb0da2f59710"
      },
      "execution_count": 23,
      "outputs": [
        {
          "output_type": "stream",
          "name": "stdout",
          "text": [
            "[1, 2, 3, 4]\n",
            "[1, 2, 3]\n"
          ]
        }
      ]
    },
    {
      "cell_type": "code",
      "source": [
        "def modify_integer(x):\n",
        " x += 1 # Modifying the integer inside the function\n",
        "my_integer = 5\n",
        "modify_integer(my_integer)\n",
        "print(my_integer) # Output: 5"
      ],
      "metadata": {
        "colab": {
          "base_uri": "https://localhost:8080/"
        },
        "id": "IQkJAu09J5fJ",
        "outputId": "38f0663e-89cf-41b5-c6fc-de0f607f36b3"
      },
      "execution_count": 24,
      "outputs": [
        {
          "output_type": "stream",
          "name": "stdout",
          "text": [
            "5\n"
          ]
        }
      ]
    },
    {
      "cell_type": "code",
      "source": [
        "def product(a, b):\n",
        " print(a * b)\n",
        "def product(a, b, c):\n",
        " print(a * b * c)\n",
        "# product(4, 5) # Uncommenting this shows an error\n",
        "\n",
        "product(4, 5, 5) # This line will call the last function\n",
        "# Try using *args to solve that problem"
      ],
      "metadata": {
        "colab": {
          "base_uri": "https://localhost:8080/"
        },
        "id": "ngcifgYuJ9fb",
        "outputId": "4b59a99b-5c25-4775-b8ce-fc9e67fa51f5"
      },
      "execution_count": 25,
      "outputs": [
        {
          "output_type": "stream",
          "name": "stdout",
          "text": [
            "100\n"
          ]
        }
      ]
    },
    {
      "cell_type": "code",
      "source": [
        "def factorial(n):\n",
        " if n == 0:\n",
        " return 1\n",
        " else:\n",
        " return n * factorial(n - 1)\n",
        "result = factorial(5)\n",
        "print(result) # Output: 120"
      ],
      "metadata": {
        "colab": {
          "base_uri": "https://localhost:8080/",
          "height": 140
        },
        "id": "-asGX41tKARs",
        "outputId": "f9420ca0-7159-43ae-fe60-cbbb26bcba89"
      },
      "execution_count": 26,
      "outputs": [
        {
          "output_type": "error",
          "ename": "IndentationError",
          "evalue": "ignored",
          "traceback": [
            "\u001b[0;36m  File \u001b[0;32m\"<ipython-input-26-a1235a1622e5>\"\u001b[0;36m, line \u001b[0;32m3\u001b[0m\n\u001b[0;31m    return 1\u001b[0m\n\u001b[0m    ^\u001b[0m\n\u001b[0;31mIndentationError\u001b[0m\u001b[0;31m:\u001b[0m expected an indented block after 'if' statement on line 2\n"
          ]
        }
      ]
    },
    {
      "cell_type": "code",
      "source": [
        "def divide(x, y):\n",
        " try:\n",
        " result = x / y\n",
        " except ZeroDivisionError:\n",
        " print(\"Error: Division by zero\")\n",
        " return None\n",
        " except TypeError:\n",
        " print(\"Error: Invalid data types\")\n",
        " return None\n",
        " except Exception as e:\n",
        " print(f\"An unexpected error occurred: {e}\")\n",
        " return None\n",
        " else:\n",
        " return result\n",
        " finally:\n",
        " print(\"Division operation complete\")\n",
        "# Example usages\n",
        "print(divide(10, 2)) # Output: 5.0\n",
        "print(divide(10, 0)) # Output: Error: Division by zero\\nDivision operation complete\\nNone\n",
        "print(divide(\"10\", 0)) # Output: Error: Invalid data types\\nDivision operation complete\\nNone"
      ],
      "metadata": {
        "colab": {
          "base_uri": "https://localhost:8080/",
          "height": 140
        },
        "id": "ctcP52JRKIY4",
        "outputId": "57299943-c652-445d-f58a-03de33d65e20"
      },
      "execution_count": 27,
      "outputs": [
        {
          "output_type": "error",
          "ename": "IndentationError",
          "evalue": "ignored",
          "traceback": [
            "\u001b[0;36m  File \u001b[0;32m\"<ipython-input-27-9229bbb1f02f>\"\u001b[0;36m, line \u001b[0;32m3\u001b[0m\n\u001b[0;31m    result = x / y\u001b[0m\n\u001b[0m    ^\u001b[0m\n\u001b[0;31mIndentationError\u001b[0m\u001b[0;31m:\u001b[0m expected an indented block after 'try' statement on line 2\n"
          ]
        }
      ]
    },
    {
      "cell_type": "code",
      "source": [
        "def add(a, b):\n",
        " \"\"\"\n",
        " This function adds two numbers together.\n",
        "\n",
        " Args:\n",
        " a (int): The first number to be added.\n",
        " b (int): The second number to be added.\n",
        "\n",
        " Returns:\n",
        " int: The sum of the two input numbers.\n",
        "\n",
        " Example:\n",
        " >>> add(3, 4)\n",
        " 7\n",
        " \"\"\"\n",
        " return a + b\n",
        "help(add) # Displays the docstring"
      ],
      "metadata": {
        "colab": {
          "base_uri": "https://localhost:8080/"
        },
        "id": "8EXOZ70IKNoU",
        "outputId": "9375afea-3c96-4334-97b8-9f7705dffb94"
      },
      "execution_count": 28,
      "outputs": [
        {
          "output_type": "stream",
          "name": "stdout",
          "text": [
            "Help on function add in module __main__:\n",
            "\n",
            "add(a, b)\n",
            "    This function adds two numbers together.\n",
            "    \n",
            "    Args:\n",
            "    a (int): The first number to be added.\n",
            "    b (int): The second number to be added.\n",
            "    \n",
            "    Returns:\n",
            "    int: The sum of the two input numbers.\n",
            "    \n",
            "    Example:\n",
            "    >>> add(3, 4)\n",
            "    7\n",
            "\n"
          ]
        }
      ]
    }
  ]
}