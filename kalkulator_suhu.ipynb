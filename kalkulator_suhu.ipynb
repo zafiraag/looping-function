{
 "cells": [
  {
   "cell_type": "code",
   "execution_count": null,
   "metadata": {},
   "outputs": [],
   "source": [
    "input_suhu = float(input(\"Masukkan suhu: \"))\n",
    "satuan_awal = input(\"Satuan suhu (C/F/K): \")\n",
    "\n",
    "if satuan_awal == \"F\" or satuan_awal == \"f\":\n",
    "    suhu_celsius = (input_suhu - 32) * 5.0/9.0\n",
    "elif satuan_awal == \"K\" or satuan_awal == \"k\":\n",
    "    suhu_celsius = input_suhu - 273.15\n",
    "else:\n",
    "    suhu_celsius = input_suhu\n",
    "\n",
    "print(\"Suhu dalam Celsius: \" + str(suhu_celsius) + \"°C\")\n",
    "\n",
    "suhu_fahrenheit = (suhu_celsius * 9.0/5.0) + 32\n",
    "print(\"Suhu dalam Fahrenheit: \" + str(suhu_fahrenheit) + \"°F\")\n",
    "\n",
    "suhu_kelvin = suhu_celsius + 273.15\n",
    "print(\"Suhu dalam Kelvin: \" + str(suhu_kelvin) + \"K\")"
   ]
  }
 ],
 "metadata": {
  "kernelspec": {
   "display_name": "Python 3",
   "language": "python",
   "name": "python3"
  },
  "language_info": {
   "name": "python",
   "version": "3.11.5"
  }
 },
 "nbformat": 4,
 "nbformat_minor": 2
}
