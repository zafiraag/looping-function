{
  "nbformat": 4,
  "nbformat_minor": 0,
  "metadata": {
    "colab": {
      "provenance": [],
      "authorship_tag": "ABX9TyOn9SqULD4uatjA0e54ZuX6",
      "include_colab_link": true
    },
    "kernelspec": {
      "name": "python3",
      "display_name": "Python 3"
    },
    "language_info": {
      "name": "python"
    }
  },
  "cells": [
    {
      "cell_type": "markdown",
      "metadata": {
        "id": "view-in-github",
        "colab_type": "text"
      },
      "source": [
        "<a href=\"https://colab.research.google.com/github/zafiraag/looping-function/blob/main/Exercise2.ipynb\" target=\"_parent\"><img src=\"https://colab.research.google.com/assets/colab-badge.svg\" alt=\"Open In Colab\"/></a>"
      ]
    },
    {
      "cell_type": "code",
      "execution_count": null,
      "metadata": {
        "id": "mejXuSFYwR47"
      },
      "outputs": [],
      "source": [
        "def average(num1: float, num2: float) -> float:\n",
        "    \"\"\"Return the average of num1 and num2.\n",
        "    >>> average(10,20)\n",
        "    15.0\n",
        "    >>> average(2.5, 3.0)\n",
        "    2.75\n",
        "    \"\"\"\n",
        "    return (num1 + num2) / 2\n",
        "\n",
        "if _name_ == '_main_':\n",
        "    import doctest\n",
        "    doctest.testmod()"
      ]
    }
  ]
}